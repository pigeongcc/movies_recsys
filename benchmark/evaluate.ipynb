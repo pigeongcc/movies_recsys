{
 "cells": [
  {
   "cell_type": "code",
   "execution_count": 73,
   "metadata": {},
   "outputs": [],
   "source": [
    "import numpy as np\n",
    "import pandas as pd\n",
    "import json\n",
    "import sys\n",
    "\n",
    "sys.path.insert(0, \"../\")\n",
    "\n",
    "from models.recsys import recommend, print_recs\n",
    "from surprise import Trainset, Dataset, Reader, SVD, accuracy\n",
    "from tqdm import tqdm\n",
    "from surprise.model_selection import train_test_split\n",
    "from surprise.prediction_algorithms.predictions import Prediction"
   ]
  },
  {
   "cell_type": "code",
   "execution_count": 68,
   "metadata": {},
   "outputs": [
    {
     "name": "stdout",
     "output_type": "stream",
     "text": [
      "(99990, 3)\n"
     ]
    },
    {
     "data": {
      "text/html": [
       "<div>\n",
       "<style scoped>\n",
       "    .dataframe tbody tr th:only-of-type {\n",
       "        vertical-align: middle;\n",
       "    }\n",
       "\n",
       "    .dataframe tbody tr th {\n",
       "        vertical-align: top;\n",
       "    }\n",
       "\n",
       "    .dataframe thead th {\n",
       "        text-align: right;\n",
       "    }\n",
       "</style>\n",
       "<table border=\"1\" class=\"dataframe\">\n",
       "  <thead>\n",
       "    <tr style=\"text-align: right;\">\n",
       "      <th></th>\n",
       "      <th>user_id</th>\n",
       "      <th>movie_id</th>\n",
       "      <th>rating</th>\n",
       "    </tr>\n",
       "  </thead>\n",
       "  <tbody>\n",
       "    <tr>\n",
       "      <th>0</th>\n",
       "      <td>195</td>\n",
       "      <td>242</td>\n",
       "      <td>3</td>\n",
       "    </tr>\n",
       "    <tr>\n",
       "      <th>1</th>\n",
       "      <td>185</td>\n",
       "      <td>302</td>\n",
       "      <td>3</td>\n",
       "    </tr>\n",
       "    <tr>\n",
       "      <th>2</th>\n",
       "      <td>21</td>\n",
       "      <td>377</td>\n",
       "      <td>1</td>\n",
       "    </tr>\n",
       "    <tr>\n",
       "      <th>3</th>\n",
       "      <td>243</td>\n",
       "      <td>51</td>\n",
       "      <td>2</td>\n",
       "    </tr>\n",
       "    <tr>\n",
       "      <th>4</th>\n",
       "      <td>165</td>\n",
       "      <td>346</td>\n",
       "      <td>1</td>\n",
       "    </tr>\n",
       "  </tbody>\n",
       "</table>\n",
       "</div>"
      ],
      "text/plain": [
       "   user_id  movie_id  rating\n",
       "0      195       242       3\n",
       "1      185       302       3\n",
       "2       21       377       1\n",
       "3      243        51       2\n",
       "4      165       346       1"
      ]
     },
     "execution_count": 68,
     "metadata": {},
     "output_type": "execute_result"
    }
   ],
   "source": [
    "df_ratings = pd.read_csv(\n",
    "    '../data/interim/preprocessed/ratings.csv',\n",
    "    index_col=0\n",
    ").reset_index()\n",
    "\n",
    "print(df_ratings.shape)\n",
    "df_ratings.head()"
   ]
  },
  {
   "cell_type": "code",
   "execution_count": 67,
   "metadata": {},
   "outputs": [
    {
     "name": "stdout",
     "output_type": "stream",
     "text": [
      "(943, 1)\n"
     ]
    },
    {
     "data": {
      "text/html": [
       "<div>\n",
       "<style scoped>\n",
       "    .dataframe tbody tr th:only-of-type {\n",
       "        vertical-align: middle;\n",
       "    }\n",
       "\n",
       "    .dataframe tbody tr th {\n",
       "        vertical-align: top;\n",
       "    }\n",
       "\n",
       "    .dataframe thead th {\n",
       "        text-align: right;\n",
       "    }\n",
       "</style>\n",
       "<table border=\"1\" class=\"dataframe\">\n",
       "  <thead>\n",
       "    <tr style=\"text-align: right;\">\n",
       "      <th></th>\n",
       "      <th>similar_ids</th>\n",
       "    </tr>\n",
       "    <tr>\n",
       "      <th>user_id</th>\n",
       "      <th></th>\n",
       "    </tr>\n",
       "  </thead>\n",
       "  <tbody>\n",
       "    <tr>\n",
       "      <th>0</th>\n",
       "      <td>[(888, 0.9931382418006969), (310, 0.9894742240...</td>\n",
       "    </tr>\n",
       "    <tr>\n",
       "      <th>1</th>\n",
       "      <td>[(272, 0.9851447001360526), (459, 0.9849620550...</td>\n",
       "    </tr>\n",
       "    <tr>\n",
       "      <th>2</th>\n",
       "      <td>[(444, 0.9855481657176935), (832, 0.9721014780...</td>\n",
       "    </tr>\n",
       "    <tr>\n",
       "      <th>3</th>\n",
       "      <td>[(293, 0.972894605130872), (811, 0.95356116078...</td>\n",
       "    </tr>\n",
       "    <tr>\n",
       "      <th>4</th>\n",
       "      <td>[(416, 0.931826885347274), (37, 0.931367324520...</td>\n",
       "    </tr>\n",
       "  </tbody>\n",
       "</table>\n",
       "</div>"
      ],
      "text/plain": [
       "                                               similar_ids\n",
       "user_id                                                   \n",
       "0        [(888, 0.9931382418006969), (310, 0.9894742240...\n",
       "1        [(272, 0.9851447001360526), (459, 0.9849620550...\n",
       "2        [(444, 0.9855481657176935), (832, 0.9721014780...\n",
       "3        [(293, 0.972894605130872), (811, 0.95356116078...\n",
       "4        [(416, 0.931826885347274), (37, 0.931367324520..."
      ]
     },
     "execution_count": 67,
     "metadata": {},
     "output_type": "execute_result"
    }
   ],
   "source": [
    "df_users_similarity = pd.read_csv(\n",
    "    '../data/interim/users/users_similarity.csv',\n",
    "    index_col=0\n",
    ")\n",
    "\n",
    "print(df_users_similarity.shape)\n",
    "df_users_similarity.head()"
   ]
  },
  {
   "cell_type": "code",
   "execution_count": 48,
   "metadata": {},
   "outputs": [],
   "source": [
    "ratings_columns = ['user_id', 'movie_id', 'rating']"
   ]
  },
  {
   "cell_type": "code",
   "execution_count": 131,
   "metadata": {},
   "outputs": [],
   "source": [
    "def apply_users_similarity(df_predictions, df_ratings, df_users_similarity, similarity_threshold):\n",
    "    for user_id in tqdm(df_predictions['user_id'].unique()):\n",
    "        df_predictions_svd_user = df_predictions.query(f'user_id == {user_id}')\n",
    "\n",
    "        users_similarities = pd.eval(df_users_similarity.loc[user_id, 'similar_ids'])\n",
    "        # take the similar users with cosine similarity >= similarity_threshold\n",
    "        similar_users_ids = [tuple[0] for tuple in users_similarities if tuple[1] > similarity_threshold]\n",
    "        similar_users_ratings = df_ratings[df_ratings['user_id'].isin(similar_users_ids)]\n",
    "\n",
    "        for movie_id in df_predictions_svd_user['movie_id'].unique():\n",
    "            # get relevant ratings, i.e., the specified movie rating from users in similar_users_ids\n",
    "            relevant_ratings = similar_users_ratings.query(f'movie_id == {movie_id}')\n",
    "            relevant_ratings = relevant_ratings['rating'].tolist()\n",
    "            num_relevant_ratings = np.count_nonzero(relevant_ratings)\n",
    "\n",
    "            # get the rating_svd\n",
    "            rating_svd = \\\n",
    "                df_predictions_svd_user.query(f'user_id == {user_id} and movie_id == {movie_id}')['rating_svd'].iloc[0]\n",
    "\n",
    "            # compute the hybrid rating\n",
    "            if relevant_ratings:\n",
    "                rating_hybrid = (rating_svd + sum(relevant_ratings)) / (num_relevant_ratings + 1)\n",
    "            else:\n",
    "                rating_hybrid = rating_svd\n",
    "            \n",
    "            df_predictions.loc[\n",
    "                (df_predictions['user_id'] == user_id) & (df_predictions['movie_id'] == movie_id),\n",
    "                'rating_hybrid'\n",
    "            ] = rating_hybrid\n",
    "\n",
    "    return df_predictions\n",
    "\n",
    "\n",
    "def predictions_to_df(predictions):\n",
    "    data = []\n",
    "    for pred in tqdm(predictions):\n",
    "        data.append({\n",
    "            'user_id': pred.uid,\n",
    "            'movie_id': pred.iid,\n",
    "            'rating_svd': pred.est,\n",
    "            'rating_hybrid': -1,\n",
    "        })\n",
    "    df = pd.DataFrame(data)\n",
    "    return df"
   ]
  },
  {
   "cell_type": "code",
   "execution_count": 135,
   "metadata": {},
   "outputs": [],
   "source": [
    "def evaluate_recs(svd, testset):\n",
    "    # Make predictions on the test set\n",
    "    predictions_svd = svd.test(testset)\n",
    "    \n",
    "    # apply users_similarity\n",
    "    predictions_sim = []\n",
    "    df_predictions_svd = predictions_to_df(predictions_svd)\n",
    "    df_predictions_sim = apply_users_similarity(\n",
    "        df_predictions=df_predictions_svd,\n",
    "        df_ratings=df_ratings,\n",
    "        df_users_similarity=df_users_similarity,\n",
    "        similarity_threshold=0.9\n",
    "    )\n",
    "\n",
    "    for idx, pred in tqdm(df_predictions_sim.iterrows()):\n",
    "        pred_sim = Prediction(\n",
    "            uid     = pred.user_id,\n",
    "            iid     = pred.movie_id,\n",
    "            r_ui    = pred.rating_svd,\n",
    "            est     = pred.rating_hybrid,\n",
    "            details = None\n",
    "        )\n",
    "        predictions_sim.append(pred_sim)\n",
    "\n",
    "    # evaluate the predictions\n",
    "    accuracy.rmse(predictions_svd)\n",
    "    accuracy.rmse(predictions_sim)\n",
    "\n",
    "    return df_predictions_svd, df_predictions_sim"
   ]
  },
  {
   "cell_type": "code",
   "execution_count": 133,
   "metadata": {},
   "outputs": [
    {
     "name": "stdout",
     "output_type": "stream",
     "text": [
      "RMSE: 0.9546\n"
     ]
    },
    {
     "name": "stderr",
     "output_type": "stream",
     "text": [
      "100%|██████████| 20000/20000 [00:00<00:00, 1110603.19it/s]\n",
      "  0%|          | 0/459 [00:00<?, ?it/s]/tmp/ipykernel_34532/1207973213.py:26: FutureWarning: Setting an item of incompatible dtype is deprecated and will raise in a future error of pandas. Value '3.6695791720780506' has dtype incompatible with int64, please explicitly cast to a compatible dtype first.\n",
      "  df_predictions.loc[\n",
      "100%|██████████| 459/459 [02:25<00:00,  3.15it/s]\n",
      "20000it [00:01, 12324.65it/s]"
     ]
    },
    {
     "name": "stdout",
     "output_type": "stream",
     "text": [
      "RMSE: 0.9546\n",
      "RMSE: 0.4676\n"
     ]
    },
    {
     "name": "stderr",
     "output_type": "stream",
     "text": [
      "\n"
     ]
    }
   ],
   "source": [
    "df_predictions_svd, df_predictions_sim = evaluate_recs(svd, testset)"
   ]
  },
  {
   "cell_type": "code",
   "execution_count": null,
   "metadata": {},
   "outputs": [],
   "source": []
  },
  {
   "cell_type": "code",
   "execution_count": 137,
   "metadata": {},
   "outputs": [
    {
     "name": "stdout",
     "output_type": "stream",
     "text": [
      "Split 1\n"
     ]
    },
    {
     "name": "stderr",
     "output_type": "stream",
     "text": [
      "100%|██████████| 20000/20000 [00:00<00:00, 766082.92it/s]\n",
      "  0%|          | 0/459 [00:00<?, ?it/s]/tmp/ipykernel_34532/1207973213.py:26: FutureWarning: Setting an item of incompatible dtype is deprecated and will raise in a future error of pandas. Value '3.5845371747311026' has dtype incompatible with int64, please explicitly cast to a compatible dtype first.\n",
      "  df_predictions.loc[\n",
      "100%|██████████| 459/459 [02:28<00:00,  3.09it/s]\n",
      "20000it [00:01, 12400.51it/s]\n"
     ]
    },
    {
     "name": "stdout",
     "output_type": "stream",
     "text": [
      "RMSE: 0.9526\n",
      "RMSE: 0.4657\n",
      "\n",
      "\n",
      "\n",
      "Split 2\n"
     ]
    },
    {
     "name": "stderr",
     "output_type": "stream",
     "text": [
      "100%|██████████| 20000/20000 [00:00<00:00, 1338258.86it/s]\n",
      "  0%|          | 0/653 [00:00<?, ?it/s]/tmp/ipykernel_34532/1207973213.py:26: FutureWarning: Setting an item of incompatible dtype is deprecated and will raise in a future error of pandas. Value '3.956278208246168' has dtype incompatible with int64, please explicitly cast to a compatible dtype first.\n",
      "  df_predictions.loc[\n",
      "100%|██████████| 653/653 [02:56<00:00,  3.70it/s]\n",
      "20000it [00:01, 12273.11it/s]\n"
     ]
    },
    {
     "name": "stdout",
     "output_type": "stream",
     "text": [
      "RMSE: 0.9382\n",
      "RMSE: 0.4759\n",
      "\n",
      "\n",
      "\n",
      "Split 3\n"
     ]
    },
    {
     "name": "stderr",
     "output_type": "stream",
     "text": [
      "100%|██████████| 20000/20000 [00:00<00:00, 722545.44it/s]\n",
      "  0%|          | 0/869 [00:00<?, ?it/s]/tmp/ipykernel_34532/1207973213.py:26: FutureWarning: Setting an item of incompatible dtype is deprecated and will raise in a future error of pandas. Value '3.469609444597046' has dtype incompatible with int64, please explicitly cast to a compatible dtype first.\n",
      "  df_predictions.loc[\n",
      "100%|██████████| 869/869 [03:26<00:00,  4.21it/s]\n",
      "20000it [00:01, 11557.26it/s]\n"
     ]
    },
    {
     "name": "stdout",
     "output_type": "stream",
     "text": [
      "RMSE: 0.9341\n",
      "RMSE: 0.4705\n",
      "\n",
      "\n",
      "\n",
      "Split 4\n"
     ]
    },
    {
     "name": "stderr",
     "output_type": "stream",
     "text": [
      "100%|██████████| 20000/20000 [00:00<00:00, 780313.85it/s]\n",
      "  0%|          | 0/923 [00:00<?, ?it/s]/tmp/ipykernel_34532/1207973213.py:26: FutureWarning: Setting an item of incompatible dtype is deprecated and will raise in a future error of pandas. Value '3.392534958278282' has dtype incompatible with int64, please explicitly cast to a compatible dtype first.\n",
      "  df_predictions.loc[\n",
      "100%|██████████| 923/923 [03:31<00:00,  4.36it/s]\n",
      "20000it [00:01, 13292.19it/s]\n"
     ]
    },
    {
     "name": "stdout",
     "output_type": "stream",
     "text": [
      "RMSE: 0.9318\n",
      "RMSE: 0.4725\n",
      "\n",
      "\n",
      "\n",
      "Split 5\n"
     ]
    },
    {
     "name": "stderr",
     "output_type": "stream",
     "text": [
      "100%|██████████| 20000/20000 [00:00<00:00, 1264582.50it/s]\n",
      "  0%|          | 0/927 [00:00<?, ?it/s]/tmp/ipykernel_34532/1207973213.py:26: FutureWarning: Setting an item of incompatible dtype is deprecated and will raise in a future error of pandas. Value '3.958490641206862' has dtype incompatible with int64, please explicitly cast to a compatible dtype first.\n",
      "  df_predictions.loc[\n",
      "100%|██████████| 927/927 [03:32<00:00,  4.36it/s]\n",
      "20000it [00:01, 12291.00it/s]"
     ]
    },
    {
     "name": "stdout",
     "output_type": "stream",
     "text": [
      "RMSE: 0.9345\n",
      "RMSE: 0.4624\n",
      "\n",
      "\n",
      "\n"
     ]
    },
    {
     "name": "stderr",
     "output_type": "stream",
     "text": [
      "\n"
     ]
    }
   ],
   "source": [
    "for i in range(1, 6):\n",
    "    print(f\"Split {i}\")\n",
    "    # read train and test tables\n",
    "    df_train = pd.read_csv(\n",
    "        f'data/u{i}.base',\n",
    "        sep='\\t',\n",
    "        encoding='latin-1',\n",
    "        index_col=0,\n",
    "        names=ratings_columns + ['unix_timestamp']\n",
    "    ).reset_index()\n",
    "    df_train['user_id'] = df_train['user_id'] - 1\n",
    "\n",
    "    df_test = pd.read_csv(\n",
    "        f'data/u{i}.test',\n",
    "        sep='\\t',\n",
    "        encoding='latin-1',\n",
    "        index_col=0,\n",
    "        names=ratings_columns + ['unix_timestamp']\n",
    "    ).reset_index()\n",
    "    df_test['user_id'] = df_test['user_id'] - 1\n",
    "\n",
    "    # load train data\n",
    "    reader = Reader(rating_scale=(1, 5))\n",
    "    train_data = Dataset.load_from_df(df_train[ratings_columns], reader)\n",
    "    trainset = train_data.build_full_trainset()\n",
    "\n",
    "    # train the SVD model\n",
    "    svd = SVD()\n",
    "    svd.fit(trainset)\n",
    "\n",
    "    # load test data\n",
    "    test_data = Dataset.load_from_df(df_test[ratings_columns], reader)\n",
    "    testset = test_data.build_full_trainset().build_testset()\n",
    "\n",
    "    # Make predictions on the test set\n",
    "    predictions = svd.test(testset)\n",
    "\n",
    "    # evaluate the model\n",
    "    evaluate_recs(svd, testset)\n",
    "    print(\"\\n\\n\")"
   ]
  },
  {
   "cell_type": "markdown",
   "metadata": {},
   "source": [
    "The results are quite impressive. Cross-validated RMSE (5 folds):\n",
    "\n",
    "- pure SVD: `0.9382`\n",
    "- SVD + similar users ratings: `0.4694`"
   ]
  }
 ],
 "metadata": {
  "kernelspec": {
   "display_name": "iu_pmldl2",
   "language": "python",
   "name": "python3"
  },
  "language_info": {
   "codemirror_mode": {
    "name": "ipython",
    "version": 3
   },
   "file_extension": ".py",
   "mimetype": "text/x-python",
   "name": "python",
   "nbconvert_exporter": "python",
   "pygments_lexer": "ipython3",
   "version": "3.9.18"
  }
 },
 "nbformat": 4,
 "nbformat_minor": 2
}
